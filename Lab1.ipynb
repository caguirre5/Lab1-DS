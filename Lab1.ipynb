{
 "cells": [
  {
   "cell_type": "markdown",
   "metadata": {},
   "source": [
    "# Red Neuronal Profunda (DNN) para clasificación MNIST\n",
    "\n",
    "Aplicaremos todos nuestros conocimientos para crear una DNN.  El problema que vamos a trabajar se conoce como el \"Hola Mundo\" del aprendizaje profundo porque para la mayoría de estudiantes este es el primer algoritmo de aprendizaje profundo que ven. \n",
    "\n",
    "El conjunto de datos se llama MNIST y se refiere al reconocimiento de dígitos escritos a mano.  Pueden encontrar más información en el sitio web de Yann LeCun (Director of AI Research, Facebook).  El es uno de los pioneros de todo este tema, así como de otras metodologías más complejas como las Redes Neurales Convolucionales (CNN) que se utilizan hoy día.\n",
    "\n",
    "El conjunto de datos tiene 70,000 imágenes (28x28 pixels) de dígitos escritos a mano (1 dígito por imagen).\n",
    "\n",
    "La meta es escribir un algoritmo que detecta qué dígito ha sido escrito.  Como solo hay 10 dígitos (0 al 9), este es un problema de clasificación con 10 clases.\n",
    "\n",
    "Nuestra meta será construir una RN con 2 capas escondidas."
   ]
  },
  {
   "cell_type": "markdown",
   "metadata": {},
   "source": [
    "## Importar los paquetes relevantes\n",
    "\n",
    "TensorFlow incluye un proveedor de datos de MNIST que utilizaremos acá.  Viene con el módulo **\"tensorflow-datasets\"** por lo que si no lo ha instalado aún, debe hacerlo:\n",
    "\n",
    "pip install tensorflow-datasets\n",
    "\n",
    "ó\n",
    "\n",
    "conda install tensorflow-datasets\n",
    "\n",
    "Estos conjuntos de datos se almacenarán en su directorio C:\\Users\\usuario\\tensorflow_datasets|...\n",
    "\n",
    "La primera vez que baje un conjunto de datos, se almacenará en la carpeta respectiva.  Cada vez subsiguiente, automáticamente cargará la copia en su computadora"
   ]
  },
  {
   "cell_type": "code",
   "execution_count": 1169,
   "metadata": {
    "tags": []
   },
   "outputs": [],
   "source": [
    "import numpy as np\n",
    "import tensorflow as tf\n",
    "import tensorflow_datasets as tfds"
   ]
  },
  {
   "cell_type": "markdown",
   "metadata": {},
   "source": [
    "## Datos\n",
    "\n",
    "Esta sección es donde pre-procesaremos nuestros datos.\n",
    "\n",
    "**tfd.load** carga un conjunto de datos (o si es la primera vez, los baja y luego los carga).  En este caso estamos interesados en el conjunto de datos MNIST.  El único argumento obligatorio es el nombre del conjunto de datos.  Hay otros que pueden ser útiles, por ejemplo:\n",
    "\n",
    "**with_info = True** nos provee con una tupla que contiene información sobre la versión, features, número de observaciones (samples)\n",
    "\n",
    "**as_supervised = True** cargará el conjunto de datos en una estructura de 2 tuplas (entrada, meta).  Si se usa **False**, retorna un diccionario, obviamente preferimos tener de una vez nuestra entrada y meta separados."
   ]
  },
  {
   "cell_type": "code",
   "execution_count": 1170,
   "metadata": {},
   "outputs": [],
   "source": [
    "datos_mnist, info_mnist = tfds.load(name='mnist',\n",
    "                                    shuffle_files = False,\n",
    "                                    with_info=True, \n",
    "                                    as_supervised=True)"
   ]
  },
  {
   "cell_type": "markdown",
   "metadata": {},
   "source": [
    "Una vez se ha cargado el conjunto de datos, se pueden, fácilmente, extraer los conjuntos de entrenamiento y prueba."
   ]
  },
  {
   "cell_type": "code",
   "execution_count": 1171,
   "metadata": {},
   "outputs": [],
   "source": [
    "entreno_mnist, prueba_mnist = datos_mnist['train'], datos_mnist['test']"
   ]
  },
  {
   "cell_type": "markdown",
   "metadata": {},
   "source": [
    "Por default, TF2 tiene conjuntos de datos de entrenamiento y de prueba, pero no tiene un conjunto de validación, por lo que debemos dividirlo por nuestra cuenta\n",
    "\n",
    "Empezamos por definir el número de observaciones de validación, como un porcentaje de las observaciones de entrenamiento.  Aqui es donde también usamos **mnist_info** (no tenemos que contar las observaciones)"
   ]
  },
  {
   "cell_type": "code",
   "execution_count": 1172,
   "metadata": {},
   "outputs": [],
   "source": [
    "num_obs_validacion = 0.1 * info_mnist.splits['train'].num_examples"
   ]
  },
  {
   "cell_type": "markdown",
   "metadata": {},
   "source": [
    "Convertimos este número a entero ya que un float puede causar problemas en el camino"
   ]
  },
  {
   "cell_type": "code",
   "execution_count": 1173,
   "metadata": {},
   "outputs": [],
   "source": [
    "num_obs_validacion = tf.cast(num_obs_validacion, tf.int64)"
   ]
  },
  {
   "cell_type": "markdown",
   "metadata": {},
   "source": [
    "Usaremos una variable dedicada para el número de muestras de prueba"
   ]
  },
  {
   "cell_type": "code",
   "execution_count": 1174,
   "metadata": {},
   "outputs": [],
   "source": [
    "num_obs_prueba = info_mnist.splits['test'].num_examples"
   ]
  },
  {
   "cell_type": "code",
   "execution_count": 1175,
   "metadata": {},
   "outputs": [],
   "source": [
    "num_obs_prueba = tf.cast(num_obs_prueba, tf.int64)"
   ]
  },
  {
   "cell_type": "markdown",
   "metadata": {},
   "source": [
    "Normalmente preferimos \"normalizar\" nuestros datos en alguna forma para que el resultado sea numéricamente más estable.  En este caso simplemente preferimos tener entradas entre 0 y 1, por lo que definimos una función, que reciba la imagen MNIST y su etiqueta, para hacerlo.\n",
    "\n",
    "Como los posibles valores de las entradas son entre 0 y 255 (256 posibles tonos de gris), al dividirlos por 255 obtenemos el resultado deseado."
   ]
  },
  {
   "cell_type": "code",
   "execution_count": 1176,
   "metadata": {},
   "outputs": [],
   "source": [
    "def normalizar(imagen, etiqueta):\n",
    "    imagen = tf.cast(imagen, tf.float32)\n",
    "    imagen /= 255.\n",
    "    return imagen, etiqueta"
   ]
  },
  {
   "cell_type": "markdown",
   "metadata": {},
   "source": [
    "El método .map() nos permite aplicar una transormación \"customizada\" a un conjunto de datos.  Ya hemos decidido que obtendremos los datos de validación a partir de *mnist_train*"
   ]
  },
  {
   "cell_type": "code",
   "execution_count": 1177,
   "metadata": {
    "tags": []
   },
   "outputs": [],
   "source": [
    "datos_entrenamiento_y_validacion_normalizados = entreno_mnist.map(normalizar)"
   ]
  },
  {
   "cell_type": "markdown",
   "metadata": {},
   "source": [
    "Finalmente, normalizaremos y convertiremos los datos de pruebas en tandas.  Los normalizamos para que tengan la misma magnitud que los datos de entrenamiento y validación.\n",
    "\n",
    "No hay necesidad de \"barajearlo\" ya que no estaremos entrenando con los datos de prueba.  Habra una sola tanda, igual al tamaño de los datos de prueba."
   ]
  },
  {
   "cell_type": "code",
   "execution_count": 1178,
   "metadata": {},
   "outputs": [],
   "source": [
    "datos_prueba = prueba_mnist.map(normalizar)"
   ]
  },
  {
   "cell_type": "markdown",
   "metadata": {},
   "source": [
    "Si \"barajearemos\" los datos de entrenamiento y validación.\n",
    "\n",
    "El parámetro **TAMANIO_BUFFER** se utiliza para casos que tengan conjuntos de datos grandes.  En este caso no es posible \"barajear\" el conjunto completo de un solo porque no cabe en la memoria.  En vez, TF2 solo almacena los datos en memoria **TAMANIO_BUFFER** muestras a la vez, y los \"barajea\".\n",
    "\n",
    "si TAMANIO_BUFFER = 1 => no hay \"barajeo\"\n",
    "si TAMANIO_BUFFER >= número de muestras => el \"barajeo\" se hace uniformemente\n",
    "\n",
    "para un TAMANIO_BUFFER intermedio - se hace una optimización computacional para aproximar un \"barajeo\" uniforme.\n",
    "\n",
    "Afortunadamente, hay un método de \"barajeo\" disponible y solo necesitamos especificar el tamaño del buffer."
   ]
  },
  {
   "cell_type": "code",
   "execution_count": 1179,
   "metadata": {},
   "outputs": [],
   "source": [
    "TAMANIO_BUFFER = 10000"
   ]
  },
  {
   "cell_type": "code",
   "execution_count": 1180,
   "metadata": {},
   "outputs": [],
   "source": [
    "datos_entrenamiento_y_validacion_barajeados = datos_entrenamiento_y_validacion_normalizados.shuffle(TAMANIO_BUFFER)"
   ]
  },
  {
   "cell_type": "markdown",
   "metadata": {},
   "source": [
    "Una vez se han \"normalizado\" y \"barajeado\" los datos, podemos proceder a extraer los datos de entrenamiento y de validación.\n",
    "\n",
    "Nuestros datos de validación serán el 10% del conjunto de entrenamiento, que ya se calculó utilizando el método **.take()**.\n",
    "\n",
    "Finalmente, creamos una tanda con un tamaño de tanda igual al total de muestras de validación."
   ]
  },
  {
   "cell_type": "code",
   "execution_count": 1181,
   "metadata": {},
   "outputs": [],
   "source": [
    "datos_validacion = datos_entrenamiento_y_validacion_barajeados.take(num_obs_validacion)"
   ]
  },
  {
   "cell_type": "markdown",
   "metadata": {},
   "source": [
    "Similarmente, los datos de entrenamiento son todos los demás por lo que nos salteamos tantas observaciones como las hay en el conjunto de validación."
   ]
  },
  {
   "cell_type": "code",
   "execution_count": 1182,
   "metadata": {},
   "outputs": [],
   "source": [
    "datos_entreno = datos_entrenamiento_y_validacion_barajeados.skip(num_obs_validacion)"
   ]
  },
  {
   "cell_type": "markdown",
   "metadata": {},
   "source": [
    "Establecemos el tamaño de las tandas.\n",
    "\n",
    "También podemos aprovechar el momento para separar los datos de entrenamiento y de prueba.\n",
    "\n",
    "Estos serán muy útiles cuando entrenemos, ya que podemos iterar sobre las diferentes tandas"
   ]
  },
  {
   "cell_type": "code",
   "execution_count": 1183,
   "metadata": {},
   "outputs": [],
   "source": [
    "TAMANIO_TANDA = 100 #64\n",
    "\n",
    "datos_entreno = datos_entreno.batch(TAMANIO_TANDA)\n",
    "\n",
    "datos_validacion = datos_validacion.batch(num_obs_validacion)\n",
    "\n",
    "datos_prueba = datos_prueba.batch(num_obs_prueba)"
   ]
  },
  {
   "cell_type": "markdown",
   "metadata": {},
   "source": [
    "Toma la siguiente tanda (es la única tanda) ya que, como configuramos **as_supervized = True**, obtuvimos una estructura de 2 tuplas "
   ]
  },
  {
   "cell_type": "code",
   "execution_count": 1184,
   "metadata": {},
   "outputs": [],
   "source": [
    "entradas_validacion, metas_validacion = next(iter(datos_validacion))"
   ]
  },
  {
   "cell_type": "markdown",
   "metadata": {},
   "source": [
    "## Modelo"
   ]
  },
  {
   "cell_type": "markdown",
   "metadata": {},
   "source": [
    "### Delineamos el modelo\n",
    "\n",
    "Cuando pensamos sobre un algoritmo de aprenzaje profundo, casi siempre solo lo imaginamos.  Asi que esta vez, hagámoslo.  :)"
   ]
  },
  {
   "cell_type": "code",
   "execution_count": 1185,
   "metadata": {
    "tags": []
   },
   "outputs": [],
   "source": [
    "tamanio_entrada = 784\n",
    "tamanio_salida = 10"
   ]
  },
  {
   "cell_type": "markdown",
   "metadata": {},
   "source": [
    "Usaremos el mismo ancho para ambas capas escondidas.  No es una necesidad!"
   ]
  },
  {
   "cell_type": "code",
   "execution_count": 1186,
   "metadata": {},
   "outputs": [],
   "source": [
    "tamanio_capa_escondida = 200"
   ]
  },
  {
   "cell_type": "markdown",
   "metadata": {},
   "source": [
    "# Definimos cómo se verá el modelo\n",
    "\n",
    "La primera capa (la de entrada):  cada observación es de 28x28x1 píxeles, por lo tanto es un tensor de rango 3.\n",
    "\n",
    "Como aún no hemos aprendido sobre CNNs, no sabemos como alimentar este tipo de entrada a nuestra red, por lo tanto hay que \"aplanar\" las imágenes.  Hay un método conveniente **Flatten** que toma nuestro tensor de 28x28x1 y lo convierte en  un vector (None), o (784,)...porque 28x28x1 = 784.  Esto nos permite crear una red de alimentación hacia adelante.\n",
    "\n",
    "    \n",
    "**tf.keras.layers.Dense** básicamente implementa:  output = activation(dot(entrada, peso) + sesgo).  Requiere varios argumentos, pero los más importantes para nosotros son el ancho de la capa escondida y la función de activación.\n",
    "\n",
    "La capa final no es diferente, solo nos aseguramos de activarla con **softmax**\n"
   ]
  },
  {
   "cell_type": "code",
   "execution_count": 1187,
   "metadata": {},
   "outputs": [],
   "source": [
    "modelo = tf.keras.Sequential([\n",
    "\n",
    "    tf.keras.layers.Flatten(input_shape=(28, 28, 1)), # capa entrada\n",
    "    \n",
    "    tf.keras.layers.Dense(200, activation='relu'), \n",
    "    tf.keras.layers.Dense(200, activation='tanh'),  \n",
    "\n",
    "\n",
    "    tf.keras.layers.Dense(tamanio_salida, activation='softmax') # capa salida\n",
    "])"
   ]
  },
  {
   "cell_type": "markdown",
   "metadata": {},
   "source": [
    "### Seleccionar el optimizador y la función de pérdida"
   ]
  },
  {
   "cell_type": "markdown",
   "metadata": {
    "tags": []
   },
   "source": [
    "Definimos el optimizador que nos gustaría utilizar, la función de pérdida, y las métricas que nos interesa obtener en cada interacción"
   ]
  },
  {
   "cell_type": "code",
   "execution_count": 1188,
   "metadata": {},
   "outputs": [],
   "source": [
    "optimizador = tf.keras.optimizers.Adam(learning_rate=0.001)\n",
    "modelo.compile(optimizer=optimizador, loss='sparse_categorical_crossentropy', metrics=['accuracy'])"
   ]
  },
  {
   "cell_type": "markdown",
   "metadata": {},
   "source": [
    "### Entrenamiento\n",
    "\n",
    "Acá es donde entrenamos el modelo que hemos construído\n",
    "\n",
    "Determinamos el número máximo de épocas.\n",
    "\n",
    "Ajustamos el modelo , especificando:\n",
    "\n",
    "* los datos de entrenamiento\n",
    "* el número total de épocas\n",
    "* y los datos de validación que creamos en el formato (entradas, metas)"
   ]
  },
  {
   "cell_type": "code",
   "execution_count": 1189,
   "metadata": {},
   "outputs": [
    {
     "name": "stdout",
     "output_type": "stream",
     "text": [
      "Epoch 1/100\n"
     ]
    },
    {
     "name": "stdout",
     "output_type": "stream",
     "text": [
      "540/540 - 8s - loss: 0.2549 - accuracy: 0.9252 - val_loss: 0.1322 - val_accuracy: 0.9655 - 8s/epoch - 15ms/step\n",
      "Epoch 2/100\n",
      "540/540 - 3s - loss: 0.0982 - accuracy: 0.9700 - val_loss: 0.0853 - val_accuracy: 0.9747 - 3s/epoch - 5ms/step\n",
      "Epoch 3/100\n",
      "540/540 - 3s - loss: 0.0637 - accuracy: 0.9799 - val_loss: 0.0593 - val_accuracy: 0.9810 - 3s/epoch - 5ms/step\n",
      "Epoch 4/100\n",
      "540/540 - 3s - loss: 0.0481 - accuracy: 0.9846 - val_loss: 0.0542 - val_accuracy: 0.9830 - 3s/epoch - 5ms/step\n",
      "Epoch 5/100\n",
      "540/540 - 3s - loss: 0.0354 - accuracy: 0.9884 - val_loss: 0.0445 - val_accuracy: 0.9865 - 3s/epoch - 5ms/step\n",
      "Epoch 6/100\n",
      "540/540 - 3s - loss: 0.0282 - accuracy: 0.9909 - val_loss: 0.0364 - val_accuracy: 0.9885 - 3s/epoch - 5ms/step\n",
      "Epoch 7/100\n",
      "540/540 - 3s - loss: 0.0222 - accuracy: 0.9928 - val_loss: 0.0294 - val_accuracy: 0.9915 - 3s/epoch - 5ms/step\n",
      "Epoch 8/100\n",
      "540/540 - 3s - loss: 0.0202 - accuracy: 0.9933 - val_loss: 0.0269 - val_accuracy: 0.9922 - 3s/epoch - 5ms/step\n",
      "Epoch 9/100\n",
      "540/540 - 3s - loss: 0.0186 - accuracy: 0.9937 - val_loss: 0.0243 - val_accuracy: 0.9920 - 3s/epoch - 5ms/step\n",
      "Epoch 10/100\n",
      "540/540 - 3s - loss: 0.0141 - accuracy: 0.9956 - val_loss: 0.0182 - val_accuracy: 0.9940 - 3s/epoch - 5ms/step\n",
      "Epoch 11/100\n",
      "540/540 - 3s - loss: 0.0136 - accuracy: 0.9955 - val_loss: 0.0197 - val_accuracy: 0.9937 - 3s/epoch - 5ms/step\n",
      "Epoch 12/100\n",
      "540/540 - 3s - loss: 0.0111 - accuracy: 0.9964 - val_loss: 0.0138 - val_accuracy: 0.9957 - 3s/epoch - 5ms/step\n",
      "Epoch 13/100\n",
      "540/540 - 3s - loss: 0.0100 - accuracy: 0.9969 - val_loss: 0.0136 - val_accuracy: 0.9957 - 3s/epoch - 5ms/step\n",
      "Epoch 14/100\n",
      "540/540 - 3s - loss: 0.0115 - accuracy: 0.9959 - val_loss: 0.0175 - val_accuracy: 0.9945 - 3s/epoch - 5ms/step\n",
      "Epoch 15/100\n",
      "540/540 - 3s - loss: 0.0086 - accuracy: 0.9968 - val_loss: 0.0081 - val_accuracy: 0.9973 - 3s/epoch - 5ms/step\n",
      "Epoch 16/100\n",
      "540/540 - 3s - loss: 0.0098 - accuracy: 0.9970 - val_loss: 0.0166 - val_accuracy: 0.9948 - 3s/epoch - 5ms/step\n",
      "Epoch 17/100\n",
      "540/540 - 3s - loss: 0.0076 - accuracy: 0.9975 - val_loss: 0.0074 - val_accuracy: 0.9980 - 3s/epoch - 5ms/step\n",
      "Epoch 18/100\n",
      "540/540 - 3s - loss: 0.0073 - accuracy: 0.9977 - val_loss: 0.0074 - val_accuracy: 0.9972 - 3s/epoch - 5ms/step\n",
      "Epoch 19/100\n",
      "540/540 - 3s - loss: 0.0079 - accuracy: 0.9972 - val_loss: 0.0127 - val_accuracy: 0.9960 - 3s/epoch - 5ms/step\n",
      "Epoch 20/100\n",
      "540/540 - 3s - loss: 0.0091 - accuracy: 0.9970 - val_loss: 0.0046 - val_accuracy: 0.9983 - 3s/epoch - 5ms/step\n",
      "Epoch 21/100\n",
      "540/540 - 3s - loss: 0.0025 - accuracy: 0.9993 - val_loss: 0.0034 - val_accuracy: 0.9988 - 3s/epoch - 5ms/step\n",
      "Epoch 22/100\n",
      "540/540 - 3s - loss: 0.0044 - accuracy: 0.9986 - val_loss: 0.0094 - val_accuracy: 0.9965 - 3s/epoch - 5ms/step\n",
      "Epoch 23/100\n",
      "540/540 - 3s - loss: 0.0122 - accuracy: 0.9960 - val_loss: 0.0122 - val_accuracy: 0.9965 - 3s/epoch - 5ms/step\n",
      "Epoch 24/100\n",
      "540/540 - 3s - loss: 0.0062 - accuracy: 0.9978 - val_loss: 0.0053 - val_accuracy: 0.9980 - 3s/epoch - 6ms/step\n",
      "Epoch 25/100\n",
      "540/540 - 3s - loss: 0.0053 - accuracy: 0.9981 - val_loss: 0.0040 - val_accuracy: 0.9988 - 3s/epoch - 5ms/step\n",
      "Epoch 26/100\n",
      "540/540 - 3s - loss: 0.0059 - accuracy: 0.9979 - val_loss: 0.0106 - val_accuracy: 0.9962 - 3s/epoch - 5ms/step\n",
      "Epoch 27/100\n",
      "540/540 - 3s - loss: 0.0057 - accuracy: 0.9981 - val_loss: 0.0072 - val_accuracy: 0.9973 - 3s/epoch - 5ms/step\n",
      "Epoch 28/100\n",
      "540/540 - 3s - loss: 0.0034 - accuracy: 0.9988 - val_loss: 0.0060 - val_accuracy: 0.9973 - 3s/epoch - 5ms/step\n",
      "Epoch 29/100\n",
      "540/540 - 3s - loss: 0.0034 - accuracy: 0.9988 - val_loss: 0.0057 - val_accuracy: 0.9982 - 3s/epoch - 5ms/step\n",
      "Epoch 30/100\n",
      "540/540 - 3s - loss: 0.0036 - accuracy: 0.9989 - val_loss: 0.0033 - val_accuracy: 0.9987 - 3s/epoch - 5ms/step\n",
      "Epoch 31/100\n",
      "540/540 - 3s - loss: 0.0079 - accuracy: 0.9972 - val_loss: 0.0165 - val_accuracy: 0.9940 - 3s/epoch - 5ms/step\n",
      "Epoch 32/100\n",
      "540/540 - 3s - loss: 0.0040 - accuracy: 0.9988 - val_loss: 0.0025 - val_accuracy: 0.9995 - 3s/epoch - 5ms/step\n",
      "Epoch 33/100\n",
      "540/540 - 3s - loss: 0.0023 - accuracy: 0.9993 - val_loss: 9.8461e-04 - val_accuracy: 1.0000 - 3s/epoch - 5ms/step\n",
      "Epoch 34/100\n",
      "540/540 - 3s - loss: 0.0013 - accuracy: 0.9996 - val_loss: 0.0019 - val_accuracy: 0.9993 - 3s/epoch - 5ms/step\n",
      "Epoch 35/100\n",
      "540/540 - 3s - loss: 0.0054 - accuracy: 0.9981 - val_loss: 0.0058 - val_accuracy: 0.9987 - 3s/epoch - 5ms/step\n",
      "Epoch 36/100\n",
      "540/540 - 3s - loss: 0.0079 - accuracy: 0.9976 - val_loss: 0.0075 - val_accuracy: 0.9978 - 3s/epoch - 5ms/step\n",
      "Epoch 37/100\n",
      "540/540 - 3s - loss: 0.0022 - accuracy: 0.9993 - val_loss: 0.0021 - val_accuracy: 0.9995 - 3s/epoch - 5ms/step\n",
      "Epoch 38/100\n",
      "540/540 - 3s - loss: 3.7184e-04 - accuracy: 0.9999 - val_loss: 8.8907e-04 - val_accuracy: 0.9997 - 3s/epoch - 5ms/step\n",
      "Epoch 39/100\n",
      "540/540 - 3s - loss: 0.0045 - accuracy: 0.9986 - val_loss: 0.0063 - val_accuracy: 0.9982 - 3s/epoch - 5ms/step\n",
      "Epoch 40/100\n",
      "540/540 - 3s - loss: 0.0058 - accuracy: 0.9980 - val_loss: 0.0125 - val_accuracy: 0.9962 - 3s/epoch - 6ms/step\n",
      "Epoch 41/100\n",
      "540/540 - 3s - loss: 0.0048 - accuracy: 0.9984 - val_loss: 0.0059 - val_accuracy: 0.9983 - 3s/epoch - 6ms/step\n",
      "Epoch 42/100\n",
      "540/540 - 3s - loss: 0.0022 - accuracy: 0.9993 - val_loss: 0.0065 - val_accuracy: 0.9978 - 3s/epoch - 5ms/step\n",
      "Epoch 43/100\n",
      "540/540 - 3s - loss: 0.0037 - accuracy: 0.9990 - val_loss: 0.0052 - val_accuracy: 0.9980 - 3s/epoch - 5ms/step\n",
      "Epoch 44/100\n",
      "540/540 - 3s - loss: 0.0027 - accuracy: 0.9992 - val_loss: 5.9213e-04 - val_accuracy: 0.9998 - 3s/epoch - 5ms/step\n",
      "Epoch 45/100\n",
      "540/540 - 3s - loss: 0.0020 - accuracy: 0.9993 - val_loss: 0.0040 - val_accuracy: 0.9988 - 3s/epoch - 5ms/step\n",
      "Epoch 46/100\n",
      "540/540 - 3s - loss: 0.0022 - accuracy: 0.9994 - val_loss: 0.0018 - val_accuracy: 0.9993 - 3s/epoch - 5ms/step\n",
      "Epoch 47/100\n",
      "540/540 - 3s - loss: 0.0067 - accuracy: 0.9981 - val_loss: 0.0023 - val_accuracy: 0.9992 - 3s/epoch - 5ms/step\n",
      "Epoch 48/100\n",
      "540/540 - 3s - loss: 0.0018 - accuracy: 0.9993 - val_loss: 0.0048 - val_accuracy: 0.9982 - 3s/epoch - 5ms/step\n",
      "Epoch 49/100\n",
      "540/540 - 3s - loss: 0.0034 - accuracy: 0.9988 - val_loss: 0.0040 - val_accuracy: 0.9985 - 3s/epoch - 5ms/step\n",
      "Epoch 50/100\n",
      "540/540 - 3s - loss: 0.0028 - accuracy: 0.9991 - val_loss: 0.0021 - val_accuracy: 0.9990 - 3s/epoch - 5ms/step\n",
      "Epoch 51/100\n",
      "540/540 - 3s - loss: 0.0014 - accuracy: 0.9995 - val_loss: 4.8404e-04 - val_accuracy: 1.0000 - 3s/epoch - 5ms/step\n",
      "Epoch 52/100\n",
      "540/540 - 3s - loss: 6.9392e-04 - accuracy: 0.9998 - val_loss: 4.3332e-04 - val_accuracy: 1.0000 - 3s/epoch - 5ms/step\n",
      "Epoch 53/100\n",
      "540/540 - 3s - loss: 0.0025 - accuracy: 0.9993 - val_loss: 0.0067 - val_accuracy: 0.9973 - 3s/epoch - 5ms/step\n",
      "Epoch 54/100\n",
      "540/540 - 3s - loss: 0.0062 - accuracy: 0.9980 - val_loss: 0.0052 - val_accuracy: 0.9977 - 3s/epoch - 5ms/step\n",
      "Epoch 55/100\n",
      "540/540 - 3s - loss: 0.0021 - accuracy: 0.9993 - val_loss: 9.1044e-04 - val_accuracy: 0.9997 - 3s/epoch - 5ms/step\n",
      "Epoch 56/100\n",
      "540/540 - 3s - loss: 8.8716e-04 - accuracy: 0.9998 - val_loss: 9.4047e-04 - val_accuracy: 0.9995 - 3s/epoch - 5ms/step\n",
      "Epoch 57/100\n",
      "540/540 - 3s - loss: 0.0038 - accuracy: 0.9986 - val_loss: 0.0066 - val_accuracy: 0.9977 - 3s/epoch - 5ms/step\n",
      "Epoch 58/100\n",
      "540/540 - 3s - loss: 0.0034 - accuracy: 0.9991 - val_loss: 0.0019 - val_accuracy: 0.9993 - 3s/epoch - 5ms/step\n",
      "Epoch 59/100\n",
      "540/540 - 3s - loss: 0.0026 - accuracy: 0.9991 - val_loss: 0.0028 - val_accuracy: 0.9988 - 3s/epoch - 5ms/step\n",
      "Epoch 60/100\n",
      "540/540 - 3s - loss: 9.0840e-04 - accuracy: 0.9997 - val_loss: 5.5989e-04 - val_accuracy: 1.0000 - 3s/epoch - 6ms/step\n",
      "Epoch 61/100\n",
      "540/540 - 3s - loss: 0.0012 - accuracy: 0.9996 - val_loss: 3.2384e-04 - val_accuracy: 1.0000 - 3s/epoch - 5ms/step\n",
      "Epoch 62/100\n",
      "540/540 - 3s - loss: 0.0043 - accuracy: 0.9988 - val_loss: 0.0021 - val_accuracy: 0.9988 - 3s/epoch - 5ms/step\n",
      "Epoch 63/100\n",
      "540/540 - 3s - loss: 0.0032 - accuracy: 0.9991 - val_loss: 0.0028 - val_accuracy: 0.9990 - 3s/epoch - 5ms/step\n",
      "Epoch 64/100\n",
      "540/540 - 3s - loss: 0.0011 - accuracy: 0.9996 - val_loss: 0.0030 - val_accuracy: 0.9992 - 3s/epoch - 5ms/step\n",
      "Epoch 65/100\n",
      "540/540 - 3s - loss: 0.0014 - accuracy: 0.9996 - val_loss: 5.0833e-04 - val_accuracy: 0.9998 - 3s/epoch - 5ms/step\n",
      "Epoch 66/100\n",
      "540/540 - 3s - loss: 6.7784e-04 - accuracy: 0.9998 - val_loss: 0.0013 - val_accuracy: 0.9993 - 3s/epoch - 5ms/step\n",
      "Epoch 67/100\n",
      "540/540 - 3s - loss: 0.0046 - accuracy: 0.9985 - val_loss: 0.0071 - val_accuracy: 0.9975 - 3s/epoch - 5ms/step\n",
      "Epoch 68/100\n",
      "540/540 - 3s - loss: 0.0039 - accuracy: 0.9988 - val_loss: 0.0020 - val_accuracy: 0.9992 - 3s/epoch - 5ms/step\n",
      "Epoch 69/100\n",
      "540/540 - 3s - loss: 9.6384e-04 - accuracy: 0.9997 - val_loss: 0.0027 - val_accuracy: 0.9987 - 3s/epoch - 5ms/step\n",
      "Epoch 70/100\n",
      "540/540 - 3s - loss: 9.3521e-04 - accuracy: 0.9998 - val_loss: 0.0023 - val_accuracy: 0.9988 - 3s/epoch - 5ms/step\n",
      "Epoch 71/100\n",
      "540/540 - 3s - loss: 0.0047 - accuracy: 0.9984 - val_loss: 0.0101 - val_accuracy: 0.9968 - 3s/epoch - 5ms/step\n",
      "Epoch 72/100\n",
      "540/540 - 3s - loss: 0.0012 - accuracy: 0.9997 - val_loss: 2.0444e-04 - val_accuracy: 1.0000 - 3s/epoch - 5ms/step\n",
      "Epoch 73/100\n",
      "540/540 - 3s - loss: 3.2907e-04 - accuracy: 0.9999 - val_loss: 2.2928e-04 - val_accuracy: 1.0000 - 3s/epoch - 5ms/step\n",
      "Epoch 74/100\n",
      "540/540 - 3s - loss: 3.2364e-05 - accuracy: 1.0000 - val_loss: 6.3360e-05 - val_accuracy: 1.0000 - 3s/epoch - 5ms/step\n",
      "Epoch 75/100\n",
      "540/540 - 3s - loss: 4.1173e-05 - accuracy: 1.0000 - val_loss: 6.1418e-05 - val_accuracy: 1.0000 - 3s/epoch - 5ms/step\n",
      "Epoch 76/100\n",
      "540/540 - 3s - loss: 1.2250e-05 - accuracy: 1.0000 - val_loss: 3.7037e-05 - val_accuracy: 1.0000 - 3s/epoch - 5ms/step\n",
      "Epoch 77/100\n",
      "540/540 - 3s - loss: 1.3032e-05 - accuracy: 1.0000 - val_loss: 1.4760e-05 - val_accuracy: 1.0000 - 3s/epoch - 5ms/step\n",
      "Epoch 78/100\n",
      "540/540 - 3s - loss: 7.5414e-06 - accuracy: 1.0000 - val_loss: 1.0839e-05 - val_accuracy: 1.0000 - 3s/epoch - 5ms/step\n",
      "Epoch 79/100\n",
      "540/540 - 3s - loss: 5.9090e-06 - accuracy: 1.0000 - val_loss: 9.6513e-06 - val_accuracy: 1.0000 - 3s/epoch - 5ms/step\n",
      "Epoch 80/100\n",
      "540/540 - 3s - loss: 4.9221e-06 - accuracy: 1.0000 - val_loss: 8.5144e-06 - val_accuracy: 1.0000 - 3s/epoch - 5ms/step\n",
      "Epoch 81/100\n",
      "540/540 - 3s - loss: 4.3243e-06 - accuracy: 1.0000 - val_loss: 7.3250e-06 - val_accuracy: 1.0000 - 3s/epoch - 5ms/step\n",
      "Epoch 82/100\n",
      "540/540 - 3s - loss: 3.6259e-06 - accuracy: 1.0000 - val_loss: 6.2335e-06 - val_accuracy: 1.0000 - 3s/epoch - 5ms/step\n",
      "Epoch 83/100\n",
      "540/540 - 3s - loss: 2.9857e-06 - accuracy: 1.0000 - val_loss: 5.5173e-06 - val_accuracy: 1.0000 - 3s/epoch - 5ms/step\n",
      "Epoch 84/100\n",
      "540/540 - 3s - loss: 2.6851e-06 - accuracy: 1.0000 - val_loss: 3.7527e-06 - val_accuracy: 1.0000 - 3s/epoch - 5ms/step\n",
      "Epoch 85/100\n",
      "540/540 - 3s - loss: 2.1429e-06 - accuracy: 1.0000 - val_loss: 2.8943e-06 - val_accuracy: 1.0000 - 3s/epoch - 5ms/step\n",
      "Epoch 86/100\n",
      "540/540 - 3s - loss: 1.7600e-06 - accuracy: 1.0000 - val_loss: 2.4251e-06 - val_accuracy: 1.0000 - 3s/epoch - 5ms/step\n",
      "Epoch 87/100\n",
      "540/540 - 3s - loss: 1.5071e-06 - accuracy: 1.0000 - val_loss: 2.0003e-06 - val_accuracy: 1.0000 - 3s/epoch - 5ms/step\n",
      "Epoch 88/100\n",
      "540/540 - 3s - loss: 1.2251e-06 - accuracy: 1.0000 - val_loss: 1.7098e-06 - val_accuracy: 1.0000 - 3s/epoch - 5ms/step\n",
      "Epoch 89/100\n",
      "540/540 - 3s - loss: 9.6172e-07 - accuracy: 1.0000 - val_loss: 1.4991e-06 - val_accuracy: 1.0000 - 3s/epoch - 5ms/step\n",
      "Epoch 90/100\n",
      "540/540 - 3s - loss: 8.0938e-07 - accuracy: 1.0000 - val_loss: 1.2015e-06 - val_accuracy: 1.0000 - 3s/epoch - 5ms/step\n",
      "Epoch 91/100\n",
      "540/540 - 3s - loss: 6.5584e-07 - accuracy: 1.0000 - val_loss: 9.6476e-07 - val_accuracy: 1.0000 - 3s/epoch - 5ms/step\n",
      "Epoch 92/100\n",
      "540/540 - 3s - loss: 5.4139e-07 - accuracy: 1.0000 - val_loss: 7.6893e-07 - val_accuracy: 1.0000 - 3s/epoch - 5ms/step\n",
      "Epoch 93/100\n",
      "540/540 - 3s - loss: 4.2866e-07 - accuracy: 1.0000 - val_loss: 6.1360e-07 - val_accuracy: 1.0000 - 3s/epoch - 5ms/step\n",
      "Epoch 94/100\n",
      "540/540 - 3s - loss: 3.4102e-07 - accuracy: 1.0000 - val_loss: 5.0338e-07 - val_accuracy: 1.0000 - 3s/epoch - 6ms/step\n",
      "Epoch 95/100\n",
      "540/540 - 3s - loss: 3.2262e-07 - accuracy: 1.0000 - val_loss: 4.3098e-07 - val_accuracy: 1.0000 - 3s/epoch - 5ms/step\n",
      "Epoch 96/100\n",
      "540/540 - 3s - loss: 2.2722e-07 - accuracy: 1.0000 - val_loss: 3.1342e-07 - val_accuracy: 1.0000 - 3s/epoch - 5ms/step\n",
      "Epoch 97/100\n",
      "540/540 - 3s - loss: 1.8136e-07 - accuracy: 1.0000 - val_loss: 2.4933e-07 - val_accuracy: 1.0000 - 3s/epoch - 5ms/step\n",
      "Epoch 98/100\n",
      "540/540 - 3s - loss: 1.4222e-07 - accuracy: 1.0000 - val_loss: 2.0424e-07 - val_accuracy: 1.0000 - 3s/epoch - 5ms/step\n",
      "Epoch 99/100\n",
      "540/540 - 3s - loss: 1.1239e-07 - accuracy: 1.0000 - val_loss: 1.6244e-07 - val_accuracy: 1.0000 - 3s/epoch - 5ms/step\n",
      "Epoch 100/100\n",
      "540/540 - 3s - loss: 9.0957e-08 - accuracy: 1.0000 - val_loss: 1.3878e-07 - val_accuracy: 1.0000 - 3s/epoch - 5ms/step\n"
     ]
    },
    {
     "data": {
      "text/plain": [
       "<keras.src.callbacks.History at 0x2b28b4aab90>"
      ]
     },
     "execution_count": 1189,
     "metadata": {},
     "output_type": "execute_result"
    }
   ],
   "source": [
    "NUMERO_EPOCAS = 100\n",
    "\n",
    "modelo.fit(datos_entreno, \n",
    "          epochs = NUMERO_EPOCAS, \n",
    "          validation_data = (entradas_validacion, metas_validacion),\n",
    "          validation_steps = 10,\n",
    "          verbose = 2)"
   ]
  },
  {
   "cell_type": "markdown",
   "metadata": {},
   "source": [
    "## Probar el modelo\n",
    "\n",
    "Como se discutió en clase, luego del entrenamiento (con los datos de entrenamiento), y la validación (con los datos de validación), probamos el potencial de predicción final de nuestro modelo con el conjunto de datos de prueba que el algoritmo NUNCA ha visto antes.\n",
    "\n",
    "Es muy importante reconocer que estar \"jugando\" con los hiperparámetros sobre-ajusta el conjunto de datos de validación.\n",
    "\n",
    "La prueba es la instancia absolutamente final. Nunca debe probarse el modelo antes de haber completamente ajustado el modelo.\n",
    "\n",
    "Si se ajusta el modelo después de hacer la prueba, se empezará a sobre-ajustar el conjunto de datos de prueba, que echaría \"por los suelos\" el propósito original del mismo."
   ]
  },
  {
   "cell_type": "code",
   "execution_count": 1190,
   "metadata": {},
   "outputs": [
    {
     "name": "stdout",
     "output_type": "stream",
     "text": [
      "1/1 [==============================] - 1s 518ms/step - loss: 0.1183 - accuracy: 0.9842\n"
     ]
    }
   ],
   "source": [
    "perdida_prueba, precision_prueba = modelo.evaluate(datos_prueba)"
   ]
  },
  {
   "cell_type": "code",
   "execution_count": 1191,
   "metadata": {},
   "outputs": [
    {
     "name": "stdout",
     "output_type": "stream",
     "text": [
      "Pérdida de prueba: 0.12. Precisión de prueba: 98.42%\n"
     ]
    }
   ],
   "source": [
    "# Si se desea, se puede aplicar un formateo \"bonito\"\n",
    "print('Pérdida de prueba: {0:.2f}. Precisión de prueba: {1:.2f}%'.format(perdida_prueba, precision_prueba * 100.))"
   ]
  },
  {
   "cell_type": "markdown",
   "metadata": {},
   "source": [
    "Utilizando el modelo inicial y los hiperparámetros dados en este notebook, la precisión de prueba final debe ser aproximadamente 97%.\n",
    "\n",
    "Cada vez que se ejecuta el código, se obtiene una precisión diferente debido a la \"barajeada\" de las tandas, los pesos se inicializan en forma diferente, etc.\n",
    "\n",
    "Finalmente, intencionalmente se ha llegado a una solución subóptima, para que pueda tener la oportunidad de mejorarla."
   ]
  }
 ],
 "metadata": {
  "kernelspec": {
   "display_name": "Python 3 (ipykernel)",
   "language": "python",
   "name": "python3"
  },
  "language_info": {
   "codemirror_mode": {
    "name": "ipython",
    "version": 3
   },
   "file_extension": ".py",
   "mimetype": "text/x-python",
   "name": "python",
   "nbconvert_exporter": "python",
   "pygments_lexer": "ipython3",
   "version": "3.10.9"
  }
 },
 "nbformat": 4,
 "nbformat_minor": 4
}
